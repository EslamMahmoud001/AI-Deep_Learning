{
  "cells": [
    {
      "cell_type": "markdown",
      "metadata": {
        "id": "view-in-github",
        "colab_type": "text"
      },
      "source": [
        "<a href=\"https://colab.research.google.com/github/EslamMahmoud001/AI-Deep_Learning/blob/main/Deep_Q_Learning_for_Lunar_Landing.ipynb\" target=\"_parent\"><img src=\"https://colab.research.google.com/assets/colab-badge.svg\" alt=\"Open In Colab\"/></a>"
      ]
    },
    {
      "cell_type": "markdown",
      "metadata": {
        "id": "LbZcI9ZXHl3a"
      },
      "source": [
        "# Deep Q-Learning for Lunar Landing"
      ]
    },
    {
      "cell_type": "markdown",
      "metadata": {
        "id": "E8yPRjteXgPb"
      },
      "source": [
        "## Part 0 - Installing the required packages and importing the libraries"
      ]
    },
    {
      "cell_type": "markdown",
      "metadata": {
        "id": "slEm5teGWjWU"
      },
      "source": [
        "### Installing Gymnasium"
      ]
    },
    {
      "cell_type": "code",
      "execution_count": null,
      "metadata": {
        "id": "dbnq3XpoKa_7",
        "colab": {
          "base_uri": "https://localhost:8080/"
        },
        "outputId": "cb438003-939d-49e4-efd5-346c437a6fbf"
      },
      "outputs": [
        {
          "output_type": "stream",
          "name": "stdout",
          "text": [
            "Collecting gymnasium\n",
            "  Downloading gymnasium-1.0.0-py3-none-any.whl.metadata (9.5 kB)\n",
            "Requirement already satisfied: numpy>=1.21.0 in /usr/local/lib/python3.10/dist-packages (from gymnasium) (1.26.4)\n",
            "Requirement already satisfied: cloudpickle>=1.2.0 in /usr/local/lib/python3.10/dist-packages (from gymnasium) (3.1.0)\n",
            "Requirement already satisfied: typing-extensions>=4.3.0 in /usr/local/lib/python3.10/dist-packages (from gymnasium) (4.12.2)\n",
            "Collecting farama-notifications>=0.0.1 (from gymnasium)\n",
            "  Downloading Farama_Notifications-0.0.4-py3-none-any.whl.metadata (558 bytes)\n",
            "Downloading gymnasium-1.0.0-py3-none-any.whl (958 kB)\n",
            "\u001b[2K   \u001b[90m━━━━━━━━━━━━━━━━━━━━━━━━━━━━━━━━━━━━━━━━\u001b[0m \u001b[32m958.1/958.1 kB\u001b[0m \u001b[31m7.6 MB/s\u001b[0m eta \u001b[36m0:00:00\u001b[0m\n",
            "\u001b[?25hDownloading Farama_Notifications-0.0.4-py3-none-any.whl (2.5 kB)\n",
            "Installing collected packages: farama-notifications, gymnasium\n",
            "Successfully installed farama-notifications-0.0.4 gymnasium-1.0.0\n",
            "Requirement already satisfied: gymnasium[accept-rom-license,atari] in /usr/local/lib/python3.10/dist-packages (1.0.0)\n",
            "\u001b[33mWARNING: gymnasium 1.0.0 does not provide the extra 'accept-rom-license'\u001b[0m\u001b[33m\n",
            "\u001b[0mRequirement already satisfied: numpy>=1.21.0 in /usr/local/lib/python3.10/dist-packages (from gymnasium[accept-rom-license,atari]) (1.26.4)\n",
            "Requirement already satisfied: cloudpickle>=1.2.0 in /usr/local/lib/python3.10/dist-packages (from gymnasium[accept-rom-license,atari]) (3.1.0)\n",
            "Requirement already satisfied: typing-extensions>=4.3.0 in /usr/local/lib/python3.10/dist-packages (from gymnasium[accept-rom-license,atari]) (4.12.2)\n",
            "Requirement already satisfied: farama-notifications>=0.0.1 in /usr/local/lib/python3.10/dist-packages (from gymnasium[accept-rom-license,atari]) (0.0.4)\n",
            "Collecting ale-py>=0.9 (from gymnasium[accept-rom-license,atari])\n",
            "  Downloading ale_py-0.10.1-cp310-cp310-manylinux_2_17_x86_64.manylinux2014_x86_64.whl.metadata (7.6 kB)\n",
            "Downloading ale_py-0.10.1-cp310-cp310-manylinux_2_17_x86_64.manylinux2014_x86_64.whl (2.1 MB)\n",
            "\u001b[2K   \u001b[90m━━━━━━━━━━━━━━━━━━━━━━━━━━━━━━━━━━━━━━━━\u001b[0m \u001b[32m2.1/2.1 MB\u001b[0m \u001b[31m12.3 MB/s\u001b[0m eta \u001b[36m0:00:00\u001b[0m\n",
            "\u001b[?25hInstalling collected packages: ale-py\n",
            "Successfully installed ale-py-0.10.1\n",
            "Reading package lists... Done\n",
            "Building dependency tree... Done\n",
            "Reading state information... Done\n",
            "The following additional packages will be installed:\n",
            "  swig4.0\n",
            "Suggested packages:\n",
            "  swig-doc swig-examples swig4.0-examples swig4.0-doc\n",
            "The following NEW packages will be installed:\n",
            "  swig swig4.0\n",
            "0 upgraded, 2 newly installed, 0 to remove and 49 not upgraded.\n",
            "Need to get 1,116 kB of archives.\n",
            "After this operation, 5,542 kB of additional disk space will be used.\n",
            "Get:1 http://archive.ubuntu.com/ubuntu jammy/universe amd64 swig4.0 amd64 4.0.2-1ubuntu1 [1,110 kB]\n",
            "Get:2 http://archive.ubuntu.com/ubuntu jammy/universe amd64 swig all 4.0.2-1ubuntu1 [5,632 B]\n",
            "Fetched 1,116 kB in 1s (1,112 kB/s)\n",
            "Selecting previously unselected package swig4.0.\n",
            "(Reading database ... 123635 files and directories currently installed.)\n",
            "Preparing to unpack .../swig4.0_4.0.2-1ubuntu1_amd64.deb ...\n",
            "Unpacking swig4.0 (4.0.2-1ubuntu1) ...\n",
            "Selecting previously unselected package swig.\n",
            "Preparing to unpack .../swig_4.0.2-1ubuntu1_all.deb ...\n",
            "Unpacking swig (4.0.2-1ubuntu1) ...\n",
            "Setting up swig4.0 (4.0.2-1ubuntu1) ...\n",
            "Setting up swig (4.0.2-1ubuntu1) ...\n",
            "Processing triggers for man-db (2.10.2-1) ...\n",
            "Requirement already satisfied: gymnasium[box2d] in /usr/local/lib/python3.10/dist-packages (1.0.0)\n",
            "Requirement already satisfied: numpy>=1.21.0 in /usr/local/lib/python3.10/dist-packages (from gymnasium[box2d]) (1.26.4)\n",
            "Requirement already satisfied: cloudpickle>=1.2.0 in /usr/local/lib/python3.10/dist-packages (from gymnasium[box2d]) (3.1.0)\n",
            "Requirement already satisfied: typing-extensions>=4.3.0 in /usr/local/lib/python3.10/dist-packages (from gymnasium[box2d]) (4.12.2)\n",
            "Requirement already satisfied: farama-notifications>=0.0.1 in /usr/local/lib/python3.10/dist-packages (from gymnasium[box2d]) (0.0.4)\n",
            "Collecting box2d-py==2.3.5 (from gymnasium[box2d])\n",
            "  Downloading box2d-py-2.3.5.tar.gz (374 kB)\n",
            "\u001b[2K     \u001b[90m━━━━━━━━━━━━━━━━━━━━━━━━━━━━━━━━━━━━━━━━\u001b[0m \u001b[32m374.4/374.4 kB\u001b[0m \u001b[31m6.6 MB/s\u001b[0m eta \u001b[36m0:00:00\u001b[0m\n",
            "\u001b[?25h  Preparing metadata (setup.py) ... \u001b[?25l\u001b[?25hdone\n",
            "Requirement already satisfied: pygame>=2.1.3 in /usr/local/lib/python3.10/dist-packages (from gymnasium[box2d]) (2.6.1)\n",
            "Collecting swig==4.* (from gymnasium[box2d])\n",
            "  Downloading swig-4.3.0-py2.py3-none-manylinux_2_5_x86_64.manylinux1_x86_64.whl.metadata (3.5 kB)\n",
            "Downloading swig-4.3.0-py2.py3-none-manylinux_2_5_x86_64.manylinux1_x86_64.whl (1.9 MB)\n",
            "\u001b[2K   \u001b[90m━━━━━━━━━━━━━━━━━━━━━━━━━━━━━━━━━━━━━━━━\u001b[0m \u001b[32m1.9/1.9 MB\u001b[0m \u001b[31m42.5 MB/s\u001b[0m eta \u001b[36m0:00:00\u001b[0m\n",
            "\u001b[?25hBuilding wheels for collected packages: box2d-py\n",
            "  Building wheel for box2d-py (setup.py) ... \u001b[?25l\u001b[?25hdone\n",
            "  Created wheel for box2d-py: filename=box2d_py-2.3.5-cp310-cp310-linux_x86_64.whl size=2349117 sha256=c787793954e6911e1b13d5a0b5e888865ac8face676df2b0883fcf55d7351e25\n",
            "  Stored in directory: /root/.cache/pip/wheels/db/8f/6a/eaaadf056fba10a98d986f6dce954e6201ba3126926fc5ad9e\n",
            "Successfully built box2d-py\n",
            "Installing collected packages: swig, box2d-py\n",
            "Successfully installed box2d-py-2.3.5 swig-4.3.0\n"
          ]
        }
      ],
      "source": [
        "!pip install gymnasium\n",
        "!pip install \"gymnasium[atari, accept-rom-license]\"\n",
        "!apt-get install -y swig\n",
        "!pip install gymnasium[box2d]"
      ]
    },
    {
      "cell_type": "markdown",
      "metadata": {
        "id": "brqiMN3UW9T9"
      },
      "source": [
        "### Importing the libraries"
      ]
    },
    {
      "cell_type": "code",
      "execution_count": null,
      "metadata": {
        "id": "mZaKXP_aMl9O"
      },
      "outputs": [],
      "source": [
        "import os  # For the operating system\n",
        "import random  # For random parameters\n",
        "import numpy as np  # For arrays mathematics\n",
        "import torch  # For pytourch\n",
        "import torch.nn as nn # for nueral network\n",
        "import torch.optim as optim # For the optimizer\n",
        "import torch.nn.functional as F # for the activation function\n",
        "import torch.autograd as autograd # for strochastic gradient descent\n",
        "from torch.autograd import Variable\n",
        "from collections import deque, namedtuple"
      ]
    },
    {
      "cell_type": "markdown",
      "metadata": {
        "id": "EzlDKXvkXzGI"
      },
      "source": [
        "## Part 1 - Building the AI"
      ]
    },
    {
      "cell_type": "markdown",
      "metadata": {
        "id": "UtG6Zc83YYy3"
      },
      "source": [
        "### Creating the architecture of the Neural Network"
      ]
    },
    {
      "cell_type": "code",
      "source": [
        "class Network(nn.Module): # creating the netowrk class and inherting it from tourch.nn library\n",
        "  def __init__(self, state_size, action_size, seed = 42):  # state size is observation space (vectors), action_size (number of actions the agent can make), seed for the randomness\n",
        "      super(Network, self).__init__()\n",
        "      self.seed = torch.manual_seed(seed) #activating the seed\n",
        "\n",
        "      # Architicture of the Neural Network start\n",
        "      self.fc1 = nn.Linear(state_size, 64)  # fc1 is the first full connection layer between the input layer and the first full connected layer, 64 is experimental number for this type of AI\n",
        "      self.fc2 = nn.Linear(64, 64) # from experiments we need two fully connected layer\n",
        "      self.fc3 = nn.Linear(64, action_size) # connection between second fully connected layer and the output (actions)\n",
        "      # Architicture of the Neural Network end\n",
        "\n",
        "  # Making forward propagation function\n",
        "  def forward(self, state): #input is the state because its gonna propagate the state from the input layer to the output layer\n",
        "\n",
        "    # propagate the signal from the input layer to first fully connected layer with rectfier activation function\n",
        "    x = self.fc1(state) # take the state as the input to the first fully connected layer\n",
        "    x = F.relu(x) # assigning it to rectifier activation function\n",
        "\n",
        "    # propagate the signal from the  first fully connected layer to the second fully connected layer with rectfier activation function\n",
        "    x = self.fc2(x) # take the first fully connected layer output as the input to the second fully connected layer\n",
        "    x = F.relu(x) # assigning it to rectifier activation function\n",
        "\n",
        "    # propagate the signal from the  second fully connected layer to the output with rectfier activation function\n",
        "    return self.fc3(x) # take the second fully connected layer output as the input of the output layer"
      ],
      "metadata": {
        "id": "k2k7HyIObsFR"
      },
      "execution_count": null,
      "outputs": []
    },
    {
      "cell_type": "markdown",
      "metadata": {
        "id": "UxVrBnFWZKb1"
      },
      "source": [
        "## Part 2 - Training the AI"
      ]
    },
    {
      "cell_type": "markdown",
      "metadata": {
        "id": "T364fz9qZb2j"
      },
      "source": [
        "### Setting up the environment"
      ]
    },
    {
      "cell_type": "code",
      "source": [
        "import gymnasium as gym  # Contains the game enviroment\n",
        "env = gym.make('LunarLander-v3') # The Lunar Lander environment was upgraded to v3 (the game)\n",
        "state_shape = env.observation_space.shape  # assigning the enviroment shape to state_shape (vector of the elements)\n",
        "state_size = env.observation_space.shape[0] # assigning the state size (inputs)\n",
        "number_actions = env.action_space.n #assigning number of actions the agent can make (outputs)\n",
        "print('State shape: ', state_shape)\n",
        "print('State size: ', state_size)\n",
        "print('Number of actions: ', number_actions)"
      ],
      "metadata": {
        "id": "41sgnpCwtd5f",
        "colab": {
          "base_uri": "https://localhost:8080/"
        },
        "outputId": "6a347f21-e849-41c3-a4ef-7bb019790ade"
      },
      "execution_count": null,
      "outputs": [
        {
          "output_type": "stream",
          "name": "stdout",
          "text": [
            "State shape:  (8,)\n",
            "State size:  8\n",
            "Number of actions:  4\n"
          ]
        }
      ]
    },
    {
      "cell_type": "markdown",
      "metadata": {
        "id": "c_dZmOIvZgj-"
      },
      "source": [
        "### Initializing the hyperparameters"
      ]
    },
    {
      "cell_type": "code",
      "source": [
        "learning_rate = 5e-4 # From expermintation for Training Ai to land on the moon\n",
        "minibatch_size = 100 # Number of observations used in one step of the training to update the weights\n",
        "discount_factor = 0.99 # Close to one to make the agent look for accumlated future reward (not being short sighted)\n",
        "replay_buffer_size = int(1e5) # Size of memory of the AI, how many experiences including state, action, reward, next state wheteher done or not in the memory of the agent, to break the coolerations\n",
        "interpolation_parameter = 1e-3 # (tau) the number will be used in updating the parameters, from expermentation as well"
      ],
      "metadata": {
        "id": "RnrtSvXViwYb"
      },
      "execution_count": null,
      "outputs": []
    },
    {
      "cell_type": "markdown",
      "metadata": {
        "id": "8hD_Vs-bYnip"
      },
      "source": [
        "### Implementing Experience Replay"
      ]
    },
    {
      "cell_type": "code",
      "source": [
        "class ReplayMemory(object):\n",
        "  def __init__(self, capacity): # capacity of the memory\n",
        "    # If you want to execute this code outside of collab (Jupyter notebook)\n",
        "    self.device = torch.device(\"cuda:0\" if torch.cuda.is_available() else \"cpu\")\n",
        "    self.capacity = capacity # Maximum size of the memory buffer\n",
        "    self.memory = [] # the list that will store the experiences, each one contating the state, the action, the reward, the next state and whether we are done or not\n",
        "\n",
        "  # The function that will add the experience (event) to the memory buffer\n",
        "  def push(self, event):\n",
        "    self.memory.append(event) # appending the event to the memory\n",
        "    # Ensure the memory doesn't exceed it's capacity\n",
        "    if len(self.memory) > self.capacity:\n",
        "      # Delete the oldest event\n",
        "      del self.memory[0]\n",
        "\n",
        "  # Randomly select batch of experiences(events) from the memory buffer\n",
        "  def sample(self, batch_size): # size of the batch of the events that will be taken for training\n",
        "    experiences = random.sample(self.memory, k = batch_size) # take the random sample\n",
        "    states = torch.from_numpy(np.vstack([e[0] for e in experiences if e is not None ])).float().to(self.device) #stacking all the states from the sampled experienced together, # conver states into pytorch tensors, # Convert them to float, # Make sure this functions whether CPU or GPU\n",
        "    actions = torch.from_numpy(np.vstack([e[1] for e in experiences if e is not None ])).long().to(self.device) #stacking all the actions from the sampled experienced together, # conver states into pytorch tensors, # Convert them to long integers, # Make sure this functions whether CPU or GPU\n",
        "    rewards = torch.from_numpy(np.vstack([e[2] for e in experiences if e is not None ])).float().to(self.device) #stacking all the rewards from the sampled experienced together, # conver states into pytorch tensors, # Convert them to float, # Make sure this functions whether CPU or GPU\n",
        "    next_states = torch.from_numpy(np.vstack([e[3] for e in experiences if e is not None ])).float().to(self.device) #stacking all the next states from the sampled experienced together, # conver states into pytorch tensors, # Convert them to float, # Make sure this functions whether CPU or GPU\n",
        "    dones = torch.from_numpy(np.vstack([e[4] for e in experiences if e is not None]).astype(np.uint8)).float().to(self.device) #stacking all the dones from the sampled experienced together, # conver states into pytorch tensors, # Convert them to boolean, # Make sure this functions whether CPU or GPU\n",
        "    return states, next_states, actions, rewards, dones"
      ],
      "metadata": {
        "id": "DwRzceedkfYD"
      },
      "execution_count": null,
      "outputs": []
    },
    {
      "cell_type": "markdown",
      "metadata": {
        "id": "JmEkbFbUY6Jt"
      },
      "source": [
        "### Implementing the DQN class"
      ]
    },
    {
      "cell_type": "code",
      "source": [
        "class Agent():\n",
        "\n",
        "  def __init__(self, state_size, action_size):\n",
        "    self.device = torch.device(\"cuda:0\" if torch.cuda.is_available() else \"cpu\")\n",
        "    self.state_size = state_size\n",
        "    self.action_size = action_size\n",
        "\n",
        "    self.local_qnetwork = Network(state_size, action_size).to(self.device)\n",
        "    self.target_qnetwork = Network(state_size, action_size).to(self.device)\n",
        "\n",
        "    self.optimizer = optim.Adam(self.local_qnetwork.parameters(), lr = learning_rate) # Intiallizing the optimizer\n",
        "    self.memory = ReplayMemory(capacity = replay_buffer_size) # Intiallize the memory\n",
        "    self.t_step = 0 # Time step\n",
        "\n",
        "  # Store experiences and decide when to learn from them\n",
        "  def step(self, state, action, reward, next_state, done):\n",
        "    self.memory.push((state, action, reward, next_state, done)) # store the event components (in tuple) into the agent memory using the push method we created\n",
        "    self.t_step = (self.t_step + 1) % 4 # increment the time step by 1, then reset it it when it is equal to 4, so we learn every 4 steps\n",
        "    if self.t_step == 0: # we reached the 4 steps\n",
        "      if len(self.memory.memory) > minibatch_size: #there are at least 100 of observations\n",
        "        experiences = self.memory.sample(minibatch_size) # take the sample of the observations\n",
        "\n",
        "        # then learn\n",
        "        self.learn(experiences, discount_factor)\n",
        "\n",
        "  #Act method thatt will select an action based on a given state and certain epsilon value for an epsilon greedy action selection policy\n",
        "  def act(self, state, epsilon = 0.):\n",
        "      state = torch.from_numpy(state).float().unsqueeze(0).to(self.device) # convert state to torch tensor, add an extra dimension to the state correspond to the batch (which batch this state belongs to) at the begainning of the vector\n",
        "      self.local_qnetwork.eval # putting the local q network in evaluation mode\n",
        "\n",
        "      # do check that we are in predection (inference) mode not training mode\n",
        "      with torch.no_grad():\n",
        "        # Now we making prediction\n",
        "        action_values = self.local_qnetwork(state)\n",
        "\n",
        "      #return back to training mode\n",
        "      self.local_qnetwork.train()\n",
        "\n",
        "      # Now use the epsilon, generate random number, if the random number > epsilon, then select the action number with the highest q value, else select random action\n",
        "      if random.random() > epsilon:\n",
        "        return np.argmax(action_values.cpu().data.numpy())\n",
        "      else:\n",
        "        return random.choice(np.arange(self.action_size))\n",
        "\n",
        "  # Make the learn method\n",
        "  def learn(self, experiences, discount_factor):\n",
        "      states, next_states, actions, rewards, dones = experiences\n",
        "      next_q_targets = self.target_qnetwork(next_states).detach().max(1)[0].unsqueeze(1) # forward propagate next state from our target q network, this gives the action values of our target q network propagating the next state, detatch the action values in the tensror, since we want to take the maximum q values, we need the maximum value along dimension 1, square bracket zero is because we dont want its indices\n",
        "      q_targets = rewards + (discount_factor * next_q_targets * (1 - dones))\n",
        "\n",
        "      q_expected = self.local_qnetwork(states).gather(1, actions)\n",
        "\n",
        "      # Compute the cost function (loss)\n",
        "      loss = F.mse_loss(q_expected, q_targets)\n",
        "\n",
        "      # Intialize the optimizer (reset it)\n",
        "      self.optimizer.zero_grad()\n",
        "\n",
        "      # Back Propagate the loss\n",
        "      loss.backward()\n",
        "\n",
        "      # single optimization step\n",
        "      self.optimizer.step()\n",
        "\n",
        "      # Update the target network parameters with thios of local network parameters\n",
        "      self.soft_update(self.local_qnetwork, self.target_qnetwork, interpolation_parameter)\n",
        "\n",
        "  # Method that will update the parameters\n",
        "  def soft_update(self, local_model, target_model, interpolation_parameter):\n",
        "    for target_param, local_param in zip(target_model.parameters(), local_model.parameters()):\n",
        "      target_param.data.copy_(interpolation_parameter * local_param.data + (1.0 - interpolation_parameter) * target_param.data)\n",
        "\n",
        "\n",
        "\n",
        "\n"
      ],
      "metadata": {
        "id": "zF8AY8oTpl7g"
      },
      "execution_count": null,
      "outputs": []
    },
    {
      "cell_type": "markdown",
      "metadata": {
        "id": "o1tZElccZmf6"
      },
      "source": [
        "### Initializing the DQN agent"
      ]
    },
    {
      "cell_type": "code",
      "source": [
        "agent = Agent(state_size = state_size, action_size = number_actions)"
      ],
      "metadata": {
        "id": "0-yGPHQBDWYo"
      },
      "execution_count": null,
      "outputs": []
    },
    {
      "cell_type": "markdown",
      "metadata": {
        "id": "E8v0PtUfaVQp"
      },
      "source": [
        "### Training the DQN agent"
      ]
    },
    {
      "cell_type": "code",
      "source": [
        "number_episodes = 2000\n",
        "max_number_timesteps_per_episode = 1000\n",
        "epsilon_starting_value = 1.0\n",
        "epsilon_ending_value = 0.01\n",
        "epsilon_decay_value = 0.995\n",
        "epsilon = epsilon_starting_value\n",
        "scores_on_100_episodes = deque(maxlen = 100)\n",
        "\n",
        "for episodes in range(1, number_episodes + 1):\n",
        "  # reset enviroment to intial state\n",
        "  state, _ = env.reset()\n",
        "\n",
        "  # intialize the score (cumulative reward)\n",
        "  score = 0\n",
        "\n",
        "  for t in range(max_number_timesteps_per_episode):\n",
        "    action = agent.act(state, epsilon)\n",
        "    next_state, reward, done, _, _ = env.step(action)\n",
        "\n",
        "    agent.step(state=state, action=action, reward=reward, next_state=next_state, done=done)\n",
        "    state = next_state\n",
        "    score += reward\n",
        "\n",
        "    if done:\n",
        "      break\n",
        "\n",
        "  scores_on_100_episodes.append(score)\n",
        "  epsilon = max(epsilon_ending_value, epsilon_decay_value * epsilon)\n",
        "\n",
        "  # Dynamic print\n",
        "  print('\\rEpisode {}\\tAverage Score: {:.2f}'.format(episodes, np.mean(scores_on_100_episodes)), end = \"\")\n",
        "  if episodes % 100 == 0:\n",
        "    print('\\rEpisode {}\\tAverage Score: {:.2f}'.format(episodes, np.mean(scores_on_100_episodes)))\n",
        "\n",
        "  if np.mean(scores_on_100_episodes) >= 200.0:\n",
        "    print('\\nEnviroment solved in {:d} episodes!\\tAverage Score: {:.2f}'.format(episodes - 100, np.mean(scores_on_100_episodes)))\n",
        "\n",
        "    torch.save(agent.local_qnetwork.state_dict(), 'checkpoint.pth')\n",
        "    break #exit training\n",
        "\n",
        "\n",
        "\n",
        "\n"
      ],
      "metadata": {
        "colab": {
          "base_uri": "https://localhost:8080/"
        },
        "id": "F_D101_YD1s0",
        "outputId": "c4d1f49c-6fc0-4d9b-b6f0-089fbaaab367"
      },
      "execution_count": null,
      "outputs": [
        {
          "output_type": "stream",
          "name": "stdout",
          "text": [
            "Episode 100\tAverage Score: -164.51\n",
            "Episode 200\tAverage Score: -89.10\n",
            "Episode 300\tAverage Score: 0.54\n",
            "Episode 400\tAverage Score: 26.16\n",
            "Episode 500\tAverage Score: 117.29\n",
            "Episode 600\tAverage Score: 167.17\n",
            "Episode 700\tAverage Score: 198.59\n",
            "Episode 705\tAverage Score: 200.08\n",
            "Enviroment solved in 605 episodes!\tAverage Score: 200.08\n"
          ]
        }
      ]
    },
    {
      "cell_type": "markdown",
      "metadata": {
        "id": "O8CNwdOTcCoP"
      },
      "source": [
        "## Part 3 - Visualizing the results"
      ]
    },
    {
      "cell_type": "code",
      "execution_count": null,
      "metadata": {
        "id": "cb9nVvU2Okhk",
        "colab": {
          "base_uri": "https://localhost:8080/",
          "height": 459
        },
        "outputId": "7f70b3be-254c-4a15-9abc-afa55c3ea9e2"
      },
      "outputs": [
        {
          "output_type": "stream",
          "name": "stderr",
          "text": [
            "WARNING:imageio_ffmpeg:IMAGEIO FFMPEG_WRITER WARNING: input image is not divisible by macro_block_size=16, resizing from (600, 400) to (608, 400) to ensure video compatibility with most codecs and players. To prevent resizing, make your input image divisible by the macro_block_size or set the macro_block_size to 1 (risking incompatibility).\n"
          ]
        },
        {
          "output_type": "display_data",
          "data": {
            "text/plain": [
              "<IPython.core.display.HTML object>"
            ],
            "text/html": [
              "<video alt=\"test\" autoplay\n",
              "                loop controls style=\"height: 400px;\">\n",
              "                <source src=\"data:video/mp4;base64,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\" type=\"video/mp4\" />\n",
              "             </video>"
            ]
          },
          "metadata": {}
        }
      ],
      "source": [
        "import glob\n",
        "import io\n",
        "import base64\n",
        "import imageio\n",
        "from IPython.display import HTML, display\n",
        "\n",
        "def show_video_of_model(agent, env_name):\n",
        "    env = gym.make(env_name, render_mode='rgb_array')\n",
        "    state, _ = env.reset()\n",
        "    done = False\n",
        "    frames = []\n",
        "    while not done:\n",
        "        frame = env.render()\n",
        "        frames.append(frame)\n",
        "        action = agent.act(state)\n",
        "        state, reward, done, _, _ = env.step(action.item())\n",
        "    env.close()\n",
        "    imageio.mimsave('video.mp4', frames, fps=30)\n",
        "\n",
        "show_video_of_model(agent, 'LunarLander-v3')\n",
        "\n",
        "def show_video():\n",
        "    mp4list = glob.glob('*.mp4')\n",
        "    if len(mp4list) > 0:\n",
        "        mp4 = mp4list[0]\n",
        "        video = io.open(mp4, 'r+b').read()\n",
        "        encoded = base64.b64encode(video)\n",
        "        display(HTML(data='''<video alt=\"test\" autoplay\n",
        "                loop controls style=\"height: 400px;\">\n",
        "                <source src=\"data:video/mp4;base64,{0}\" type=\"video/mp4\" />\n",
        "             </video>'''.format(encoded.decode('ascii'))))\n",
        "    else:\n",
        "        print(\"Could not find video\")\n",
        "\n",
        "show_video()"
      ]
    }
  ],
  "metadata": {
    "colab": {
      "provenance": [],
      "include_colab_link": true
    },
    "kernelspec": {
      "display_name": "Python 3",
      "name": "python3"
    },
    "language_info": {
      "name": "python"
    }
  },
  "nbformat": 4,
  "nbformat_minor": 0
}